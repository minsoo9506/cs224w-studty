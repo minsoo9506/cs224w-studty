{
 "cells": [
  {
   "cell_type": "markdown",
   "metadata": {},
   "source": [
    "# NetworkX tutorial"
   ]
  },
  {
   "cell_type": "code",
   "execution_count": 1,
   "metadata": {},
   "outputs": [],
   "source": [
    "import networkx as nx"
   ]
  },
  {
   "cell_type": "markdown",
   "metadata": {},
   "source": [
    "## Graph"
   ]
  },
  {
   "cell_type": "code",
   "execution_count": 2,
   "metadata": {},
   "outputs": [
    {
     "name": "stdout",
     "output_type": "stream",
     "text": [
      "False\n"
     ]
    }
   ],
   "source": [
    "g = nx.Graph()\n",
    "\n",
    "print(g.is_directed())"
   ]
  },
  {
   "cell_type": "code",
   "execution_count": 3,
   "metadata": {},
   "outputs": [
    {
     "name": "stdout",
     "output_type": "stream",
     "text": [
      "True\n"
     ]
    }
   ],
   "source": [
    "h = nx.DiGraph()\n",
    "\n",
    "print(h.is_directed())"
   ]
  },
  {
   "cell_type": "code",
   "execution_count": 4,
   "metadata": {},
   "outputs": [
    {
     "name": "stdout",
     "output_type": "stream",
     "text": [
      "{'name': 'my_graph'}\n"
     ]
    }
   ],
   "source": [
    "# graph level attrubute\n",
    "g.graph['name'] = 'my_graph'\n",
    "\n",
    "print(g.graph)"
   ]
  },
  {
   "cell_type": "markdown",
   "metadata": {},
   "source": [
    "## Node"
   ]
  },
  {
   "cell_type": "code",
   "execution_count": 6,
   "metadata": {},
   "outputs": [
    {
     "name": "stdout",
     "output_type": "stream",
     "text": [
      "Node_0 의 특징은  {'feature': 0, 'label': 0}\n"
     ]
    }
   ],
   "source": [
    "# nodel level attribute와 함께 node 1개 추가\n",
    "g.add_node(0, feature=0, label=0)\n",
    "\n",
    "node_0_attr = g.nodes[0]\n",
    "print(f'Node_0 의 특징은 {node_0_attr}')"
   ]
  },
  {
   "cell_type": "code",
   "execution_count": 7,
   "metadata": {},
   "outputs": [],
   "source": [
    "# 여러개의 node 추가\n",
    "g.add_nodes_from([\n",
    "    (1, {'feature': 1, 'label': 1}),\n",
    "    (2, {'feature': 2, 'label': 2}),    \n",
    "])"
   ]
  },
  {
   "cell_type": "code",
   "execution_count": 17,
   "metadata": {},
   "outputs": [
    {
     "data": {
      "text/plain": [
       "NodeView((0, 1, 2))"
      ]
     },
     "execution_count": 17,
     "metadata": {},
     "output_type": "execute_result"
    }
   ],
   "source": [
    "g.nodes()"
   ]
  },
  {
   "cell_type": "code",
   "execution_count": 16,
   "metadata": {},
   "outputs": [
    {
     "data": {
      "text/plain": [
       "NodeDataView({0: {'feature': 0, 'label': 0}, 1: {'feature': 1, 'label': 1}, 2: {'feature': 2, 'label': 2}})"
      ]
     },
     "execution_count": 16,
     "metadata": {},
     "output_type": "execute_result"
    }
   ],
   "source": [
    "g.nodes(data=True)"
   ]
  },
  {
   "cell_type": "code",
   "execution_count": 11,
   "metadata": {},
   "outputs": [
    {
     "name": "stdout",
     "output_type": "stream",
     "text": [
      "node의 수는 3개 이다.\n"
     ]
    }
   ],
   "source": [
    "num_nodes = g.number_of_nodes()\n",
    "print(f'node의 수는 {num_nodes}개 이다.')"
   ]
  },
  {
   "cell_type": "markdown",
   "metadata": {},
   "source": [
    "## Edge"
   ]
  },
  {
   "cell_type": "code",
   "execution_count": 12,
   "metadata": {},
   "outputs": [
    {
     "name": "stdout",
     "output_type": "stream",
     "text": [
      "Edge (0,1) 는 {'weight': 0.5} 의 특징을 갖고 있다.\n"
     ]
    }
   ],
   "source": [
    "# edge 하나 추가\n",
    "g.add_edge(0, 1, weight=0.5)\n",
    "\n",
    "# edge (0,1) 의 attr\n",
    "edge_0_1_attr = g.edges[(0,1)]\n",
    "print(f'Edge (0,1) 는 {edge_0_1_attr} 의 특징을 갖고 있다.')"
   ]
  },
  {
   "cell_type": "code",
   "execution_count": 13,
   "metadata": {},
   "outputs": [],
   "source": [
    "# 여러개의 edge 추가\n",
    "g.add_edges_from([\n",
    "    (1, 2, {'weight': 0.3}),\n",
    "    (2, 0, {'weight': 0.1})\n",
    "])"
   ]
  },
  {
   "cell_type": "code",
   "execution_count": 15,
   "metadata": {},
   "outputs": [
    {
     "data": {
      "text/plain": [
       "EdgeView([(0, 1), (0, 2), (1, 2)])"
      ]
     },
     "execution_count": 15,
     "metadata": {},
     "output_type": "execute_result"
    }
   ],
   "source": [
    "g.edges()"
   ]
  },
  {
   "cell_type": "code",
   "execution_count": 18,
   "metadata": {},
   "outputs": [
    {
     "data": {
      "text/plain": [
       "EdgeDataView([(0, 1, {'weight': 0.5}), (0, 2, {'weight': 0.1}), (1, 2, {'weight': 0.3})])"
      ]
     },
     "execution_count": 18,
     "metadata": {},
     "output_type": "execute_result"
    }
   ],
   "source": [
    "g.edges(data=True)"
   ]
  },
  {
   "cell_type": "code",
   "execution_count": 20,
   "metadata": {},
   "outputs": [
    {
     "name": "stdout",
     "output_type": "stream",
     "text": [
      "edge의 수는 3개 이다.\n"
     ]
    }
   ],
   "source": [
    "num_edges = g.number_of_edges()\n",
    "print(f'edge의 수는 {num_edges}개 이다.')"
   ]
  },
  {
   "cell_type": "markdown",
   "metadata": {},
   "source": [
    "## visualization"
   ]
  },
  {
   "cell_type": "code",
   "execution_count": 22,
   "metadata": {},
   "outputs": [
    {
     "data": {
      "image/png": "[encoded data removed]",
      "text/plain": [
       "<Figure size 432x288 with 1 Axes>"
      ]
     },
     "metadata": {},
     "output_type": "display_data"
    }
   ],
   "source": [
    "nx.draw(g, with_labels=True)"
   ]
  },
  {
   "cell_type": "markdown",
   "metadata": {},
   "source": [
    "## node degree and neighbor"
   ]
  },
  {
   "cell_type": "code",
   "execution_count": 24,
   "metadata": {},
   "outputs": [
    {
     "name": "stdout",
     "output_type": "stream",
     "text": [
      "1 node는 degree가 2 이다.\n"
     ]
    }
   ],
   "source": [
    "node_id = 1\n",
    "\n",
    "print(f'{node_id} node는 degree가 {g.degree[node_id]} 이다.')"
   ]
  },
  {
   "cell_type": "code",
   "execution_count": 25,
   "metadata": {},
   "outputs": [
    {
     "name": "stdout",
     "output_type": "stream",
     "text": [
      "이웃은 0이다.\n",
      "이웃은 2이다.\n"
     ]
    }
   ],
   "source": [
    "for neighbor in g.neighbors(node_id):\n",
    "    print(f'이웃은 {neighbor}이다.')"
   ]
  },
  {
   "cell_type": "markdown",
   "metadata": {},
   "source": [
    "## other functionalities"
   ]
  },
  {
   "cell_type": "code",
   "execution_count": 26,
   "metadata": {},
   "outputs": [
    {
     "data": {
      "image/png": "[encoded data removed]",
      "text/plain": [
       "<Figure size 432x288 with 1 Axes>"
      ]
     },
     "metadata": {},
     "output_type": "display_data"
    }
   ],
   "source": [
    "num_nodes = 4\n",
    "\n",
    "g = nx.DiGraph(nx.path_graph(4))\n",
    "nx.draw(g, with_labels=True)"
   ]
  },
  {
   "cell_type": "code",
   "execution_count": 27,
   "metadata": {},
   "outputs": [
    {
     "data": {
      "text/plain": [
       "{0: 0.17857162031103999,\n",
       " 1: 0.32142837968896,\n",
       " 2: 0.32142837968896,\n",
       " 3: 0.17857162031103999}"
      ]
     },
     "execution_count": 27,
     "metadata": {},
     "output_type": "execute_result"
    }
   ],
   "source": [
    "pr = nx.pagerank(g, alpha=0.8)\n",
    "pr"
   ]
  }
 ],
 "metadata": {
  "kernelspec": {
   "display_name": "Python 3.10.4 64-bit ('graph')",
   "language": "python",
   "name": "python3"
  },
  "language_info": {
   "codemirror_mode": {
    "name": "ipython",
    "version": 3
   },
   "file_extension": ".py",
   "mimetype": "text/x-python",
   "name": "python",
   "nbconvert_exporter": "python",
   "pygments_lexer": "ipython3",
   "version": "3.10.4"
  },
  "orig_nbformat": 4,
  "vscode": {
   "interpreter": {
    "hash": "17fc7c38826dda244b5d3cdc3e6b548f9f93b71c63958fa34aa3bf48d92868c9"
   }
  }
 },
 "nbformat": 4,
 "nbformat_minor": 2
}
