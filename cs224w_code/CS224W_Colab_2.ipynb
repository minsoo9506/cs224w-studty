{
  "cells": [
    {
      "cell_type": "markdown",
      "metadata": {
        "id": "XuXWJLEm2UWS"
      },
      "source": [
        "# **CS224W - Colab 2**"
      ]
    },
    {
      "cell_type": "markdown",
      "metadata": {
        "id": "8gzsP50bF6Gb"
      },
      "source": [
        "In this Colab, we will construct our own graph neural network by using PyTorch Geometric (PyG) and apply the model on two of Open Graph Benchmark (OGB) datasets. Those two datasets are used to benchmark the model performance on two different graph-related tasks. One is node property prediction, predicting properties of single nodes. Another one is graph property prediction, predicting the entire graphs or subgraphs.\n",
        "\n",
        "At first, we will learn how PyTorch Geometric stores the graphs in PyTorch tensor.\n",
        "\n",
        "We will then load and take a quick look on one of the Open Graph Benchmark (OGB) datasets by using the `ogb` package. OGB is a collection of realistic, large-scale, and diverse benchmark datasets for machine learning on graphs. The `ogb` package not only provides the data loader of the dataset but also the evaluator.\n",
        "\n",
        "At last, we will build our own graph neural networks by using PyTorch Geometric. And then apply and evaluate the models on node property prediction and grpah property prediction tasks.\n",
        "\n",
        "**Note**: Make sure to **sequentially run all the cells in each section**, so that the intermediate variables / packages will carry over to the next cell\n",
        "\n",
        "Have fun on Colab 2 :)"
      ]
    },
    {
      "cell_type": "markdown",
      "metadata": {
        "id": "ZGKqVEbbMEzf"
      },
      "source": [
        "# Device\n",
        "You might need to use GPU for this Colab.\n",
        "\n",
        "Please click `Runtime` and then `Change runtime type`. Then set the `hardware accelerator` to **GPU**."
      ]
    },
    {
      "cell_type": "markdown",
      "metadata": {
        "id": "B0NiFL6OLpaJ"
      },
      "source": [
        "# Installation"
      ]
    },
    {
      "cell_type": "code",
      "execution_count": 2,
      "metadata": {
        "id": "By2oyBw7Lrh5"
      },
      "outputs": [],
      "source": [
        "# !pip install ogb"
      ]
    },
    {
      "cell_type": "markdown",
      "metadata": {
        "id": "Nwwq0nSdmsOL"
      },
      "source": [
        "# 1 PyTorch Geometric (Datasets and Data)\n"
      ]
    },
    {
      "cell_type": "markdown",
      "metadata": {
        "id": "Sf7vUmdNKCjA"
      },
      "source": [
        "PyTorch Geometric generally has two classes for storing or transforming the graphs into tensor format. One is the `torch_geometric.datasets`, which contains a variety of common graph datasets. Another one is `torch_geometric.data` that provides the data handling of graphs in PyTorch tensors.\n",
        "\n",
        "In this section, we will learn how to use the `torch_geometric.datasets` and `torch_geometric.data`."
      ]
    },
    {
      "cell_type": "markdown",
      "metadata": {
        "id": "ic-o1P3r6hr2"
      },
      "source": [
        "## PyG Datasets\n",
        "\n",
        "The `torch_geometric.datasets` has many common graph datasets. Here we will explore the usage by using one example dataset."
      ]
    },
    {
      "cell_type": "code",
      "execution_count": 1,
      "metadata": {
        "id": "zT5qca3x6XpG"
      },
      "outputs": [
        {
          "name": "stderr",
          "output_type": "stream",
          "text": [
            "/home/minsoo/.pyenv/versions/3.10.4/envs/graph/lib/python3.10/site-packages/tqdm/auto.py:22: TqdmWarning: IProgress not found. Please update jupyter and ipywidgets. See https://ipywidgets.readthedocs.io/en/stable/user_install.html\n",
            "  from .autonotebook import tqdm as notebook_tqdm\n"
          ]
        },
        {
          "name": "stdout",
          "output_type": "stream",
          "text": [
            "ENZYMES(600)\n"
          ]
        }
      ],
      "source": [
        "from torch_geometric.datasets import TUDataset\n",
        "\n",
        "root = './enzymes'\n",
        "name = 'ENZYMES'\n",
        "\n",
        "# The ENZYMES dataset\n",
        "pyg_dataset= TUDataset('./enzymes', 'ENZYMES')\n",
        "\n",
        "# You can find that there are 600 graphs in this dataset\n",
        "print(pyg_dataset)"
      ]
    },
    {
      "cell_type": "markdown",
      "metadata": {
        "id": "NLm5vVYMAP2x"
      },
      "source": [
        "## Question 1: What is the number of classes and number of features in the ENZYMES dataset? (5 points)"
      ]
    },
    {
      "cell_type": "code",
      "execution_count": 2,
      "metadata": {
        "id": "8iF_Kyqr_JbY"
      },
      "outputs": [
        {
          "name": "stdout",
          "output_type": "stream",
          "text": [
            "ENZYMES dataset has 6 classes\n",
            "ENZYMES dataset has 3 features\n"
          ]
        }
      ],
      "source": [
        "def get_num_classes(pyg_dataset):\n",
        "  # TODO: Implement this function that takes a PyG dataset object\n",
        "  # and return the number of classes for that dataset.\n",
        "\n",
        "  num_classes = 0\n",
        "\n",
        "  ############# Your code here ############\n",
        "  ## (~1 line of code)\n",
        "  ## Note\n",
        "  ## 1. Colab autocomplete functionality might be useful.\n",
        "  num_classes = pyg_dataset.num_classes\n",
        "  #########################################\n",
        "\n",
        "  return num_classes\n",
        "\n",
        "def get_num_features(pyg_dataset):\n",
        "  # TODO: Implement this function that takes a PyG dataset object\n",
        "  # and return the number of features for that dataset.\n",
        "\n",
        "  num_features = 0\n",
        "\n",
        "  ############# Your code here ############\n",
        "  ## (~1 line of code)\n",
        "  ## Note\n",
        "  ## 1. Colab autocomplete functionality might be useful.\n",
        "  num_features = pyg_dataset.num_features\n",
        "  #########################################\n",
        "\n",
        "  return num_features\n",
        "\n",
        "# You may find that some information need to be stored in the dataset level,\n",
        "# specifically if there are multiple graphs in the dataset\n",
        "\n",
        "num_classes = get_num_classes(pyg_dataset)\n",
        "num_features = get_num_features(pyg_dataset)\n",
        "print(\"{} dataset has {} classes\".format(name, num_classes))\n",
        "print(\"{} dataset has {} features\".format(name, num_features))"
      ]
    },
    {
      "cell_type": "markdown",
      "metadata": {
        "id": "rwKbzhHUAckZ"
      },
      "source": [
        "## PyG Data\n",
        "\n",
        "Each PyG dataset usually stores a list of `torch_geometric.data.Data` objects. Each `torch_geometric.data.Data` object usually represents a graph. You can easily get the `Data` object by indexing on the dataset.\n",
        "\n",
        "For more information such as what will be stored in `Data` object, please refer to the [documentation](https://pytorch-geometric.readthedocs.io/en/latest/modules/data.html#torch_geometric.data.Data)."
      ]
    },
    {
      "cell_type": "markdown",
      "metadata": {
        "id": "7sCV3xJWCddX"
      },
      "source": [
        "## Question 2: What is the label of the graph (index 100 in the ENZYMES dataset)? (5 points)"
      ]
    },
    {
      "cell_type": "code",
      "execution_count": 3,
      "metadata": {
        "id": "LIis9oTZAfs3"
      },
      "outputs": [
        {
          "name": "stdout",
          "output_type": "stream",
          "text": [
            "Data(edge_index=[2, 168], x=[37, 3], y=[1])\n",
            "Graph with index 100 has label 4\n"
          ]
        }
      ],
      "source": [
        "def get_graph_class(pyg_dataset, idx):\n",
        "  # TODO: Implement this function that takes a PyG dataset object,\n",
        "  # the index of the graph in dataset, and returns the class/label \n",
        "  # of the graph (in integer).\n",
        "\n",
        "  label = -1\n",
        "\n",
        "  ############# Your code here ############\n",
        "  ## (~1 line of code)\n",
        "  label = int(pyg_dataset[idx].y)\n",
        "  #########################################\n",
        "\n",
        "  return label\n",
        "\n",
        "# Here pyg_dataset is a dataset for graph classification\n",
        "graph_0 = pyg_dataset[0]\n",
        "print(graph_0)\n",
        "idx = 100\n",
        "label = get_graph_class(pyg_dataset, idx)\n",
        "print('Graph with index {} has label {}'.format(idx, label))"
      ]
    },
    {
      "cell_type": "markdown",
      "metadata": {
        "id": "fKhcVeAhCwoY"
      },
      "source": [
        "## Question 3: What is the number of edges for the graph (index 200 in the ENZYMES dataset)? (5 points)"
      ]
    },
    {
      "cell_type": "code",
      "execution_count": 4,
      "metadata": {
        "id": "f5m2DOfhBtWv"
      },
      "outputs": [
        {
          "name": "stdout",
          "output_type": "stream",
          "text": [
            "Graph with index 200 has 53 edges\n"
          ]
        }
      ],
      "source": [
        "def get_graph_num_edges(pyg_dataset, idx):\n",
        "  # TODO: Implement this function that takes a PyG dataset object,\n",
        "  # the index of the graph in dataset, and returns the number of \n",
        "  # edges in the graph (in integer). You should not count an edge \n",
        "  # twice if the graph is undirected. For example, in an undirected \n",
        "  # graph G, if two nodes v and u are connected by an edge, this edge\n",
        "  # should only be counted once.\n",
        "\n",
        "  num_edges = 0\n",
        "\n",
        "  ############# Your code here ############\n",
        "  ## Note:\n",
        "  ## 1. You can't return the data.num_edges directly\n",
        "  ## 2. We assume the graph is undirected\n",
        "  ## (~4 lines of code)\n",
        "  if pyg_dataset[100].is_undirected():\n",
        "    num_edges = pyg_dataset[idx].num_edges // 2\n",
        "  else:\n",
        "    num_edges = pyg_dataset[idx].num_edges\n",
        "  #########################################\n",
        "\n",
        "  return num_edges\n",
        "\n",
        "idx = 200\n",
        "num_edges = get_graph_num_edges(pyg_dataset, idx)\n",
        "print('Graph with index {} has {} edges'.format(idx, num_edges))"
      ]
    },
    {
      "cell_type": "markdown",
      "metadata": {
        "id": "AXa7yIG4E0Fp"
      },
      "source": [
        "# 2 Open Graph Benchmark (OGB)\n",
        "\n",
        "The Open Graph Benchmark (OGB) is a collection of realistic, large-scale, and diverse benchmark datasets for machine learning on graphs. Its datasets are automatically downloaded, processed, and split using the OGB Data Loader. The model performance can also be evaluated by using the OGB Evaluator in a unified manner."
      ]
    },
    {
      "cell_type": "markdown",
      "metadata": {
        "id": "HnazPGGAJAZN"
      },
      "source": [
        "## Dataset and Data\n",
        "\n",
        "OGB also supports the PyG dataset and data. Here we take a look on the `ogbn-arxiv` dataset."
      ]
    },
    {
      "cell_type": "code",
      "execution_count": 1,
      "metadata": {
        "id": "Gpc6bTm3GF02"
      },
      "outputs": [
        {
          "name": "stderr",
          "output_type": "stream",
          "text": [
            "/home/minsoo/.pyenv/versions/3.10.4/envs/graph/lib/python3.10/site-packages/tqdm/auto.py:22: TqdmWarning: IProgress not found. Please update jupyter and ipywidgets. See https://ipywidgets.readthedocs.io/en/stable/user_install.html\n",
            "  from .autonotebook import tqdm as notebook_tqdm\n"
          ]
        },
        {
          "name": "stdout",
          "output_type": "stream",
          "text": [
            "The ogbn-arxiv dataset has 1 graph\n",
            "Data(num_nodes=169343, x=[169343, 128], node_year=[169343, 1], y=[169343, 1], adj_t=[169343, 169343, nnz=1166243])\n"
          ]
        }
      ],
      "source": [
        "import torch_geometric.transforms as T\n",
        "from ogb.nodeproppred import PygNodePropPredDataset\n",
        "\n",
        "dataset_name = 'ogbn-arxiv'\n",
        "# Load the dataset and transform it to sparse tensor\n",
        "dataset = PygNodePropPredDataset(name=dataset_name,\n",
        "                                 transform=T.ToSparseTensor())\n",
        "print('The {} dataset has {} graph'.format(dataset_name, len(dataset)))\n",
        "\n",
        "# Extract the graph\n",
        "data = dataset[0]\n",
        "print(data)"
      ]
    },
    {
      "cell_type": "markdown",
      "metadata": {
        "id": "Cw0xZJKZI-n3"
      },
      "source": [
        "## Question 4: What is the number of features in the ogbn-arxiv graph? (5 points)"
      ]
    },
    {
      "cell_type": "code",
      "execution_count": 2,
      "metadata": {
        "id": "ZP844_nT2ZJl"
      },
      "outputs": [
        {
          "name": "stdout",
          "output_type": "stream",
          "text": [
            "The graph has 128 features\n"
          ]
        }
      ],
      "source": [
        "def graph_num_features(data):\n",
        "  # TODO: Implement this function that takes a PyG data object,\n",
        "  # and returns the number of features in the graph (in integer).\n",
        "\n",
        "  num_features = 0\n",
        "\n",
        "  ############# Your code here ############\n",
        "  ## (~1 line of code)\n",
        "  num_features = data.num_node_features\n",
        "  #########################################\n",
        "\n",
        "  return num_features\n",
        "\n",
        "num_features = graph_num_features(data)\n",
        "print('The graph has {} features'.format(num_features))"
      ]
    },
    {
      "cell_type": "markdown",
      "metadata": {
        "id": "9DP_yEQZ0NVW"
      },
      "source": [
        "# 3 GNN: Node Property Prediction\n",
        "\n",
        "In this section we will build our first graph neural network by using PyTorch Geometric and apply it on node property prediction (node classification).\n",
        "\n",
        "We will build the graph neural network by using GCN operator ([Kipf et al. (2017)](https://arxiv.org/pdf/1609.02907.pdf)).\n",
        "\n",
        "You should use the PyG built-in `GCNConv` layer directly. "
      ]
    },
    {
      "cell_type": "markdown",
      "metadata": {
        "id": "O4CcOUEoInjD"
      },
      "source": [
        "## Setup"
      ]
    },
    {
      "cell_type": "code",
      "execution_count": 3,
      "metadata": {
        "id": "-DCtgcHpGIpd"
      },
      "outputs": [
        {
          "name": "stdout",
          "output_type": "stream",
          "text": [
            "1.12.0+cu116\n"
          ]
        }
      ],
      "source": [
        "import torch\n",
        "import torch.nn.functional as F\n",
        "print(torch.__version__)\n",
        "\n",
        "# The PyG built-in GCNConv\n",
        "from torch_geometric.nn import GCNConv\n",
        "\n",
        "import torch_geometric.transforms as T\n",
        "from ogb.nodeproppred import PygNodePropPredDataset, Evaluator"
      ]
    },
    {
      "cell_type": "markdown",
      "metadata": {
        "id": "0IK9z0wQIwzQ"
      },
      "source": [
        "## Load and Preprocess the Dataset"
      ]
    },
    {
      "cell_type": "code",
      "execution_count": 18,
      "metadata": {
        "id": "0ibJ0ieoIwQM"
      },
      "outputs": [
        {
          "name": "stdout",
          "output_type": "stream",
          "text": [
            "Device: cuda\n"
          ]
        }
      ],
      "source": [
        "dataset_name = 'ogbn-arxiv'\n",
        "dataset = PygNodePropPredDataset(name=dataset_name,\n",
        "                                 transform=T.ToSparseTensor())\n",
        "data = dataset[0]\n",
        "\n",
        "# Make the adjacency matrix to symmetric\n",
        "data.adj_t = data.adj_t.to_symmetric()\n",
        "\n",
        "device = 'cuda' if torch.cuda.is_available() else 'cpu'\n",
        "\n",
        "# If you use GPU, the device should be cuda\n",
        "print('Device: {}'.format(device))\n",
        "\n",
        "data = data.to(device)\n",
        "split_idx = dataset.get_idx_split()\n",
        "train_idx = split_idx['train'].to(device)"
      ]
    },
    {
      "cell_type": "code",
      "execution_count": 38,
      "metadata": {},
      "outputs": [
        {
          "data": {
            "text/plain": [
              "Data(num_nodes=169343, x=[169343, 128], node_year=[169343, 1], y=[169343, 1], adj_t=[169343, 169343, nnz=2315598])"
            ]
          },
          "execution_count": 38,
          "metadata": {},
          "output_type": "execute_result"
        }
      ],
      "source": [
        "data"
      ]
    },
    {
      "cell_type": "code",
      "execution_count": 64,
      "metadata": {},
      "outputs": [
        {
          "data": {
            "text/plain": [
              "tensor([0, 1, 2, 3, 4])"
            ]
          },
          "execution_count": 64,
          "metadata": {},
          "output_type": "execute_result"
        }
      ],
      "source": [
        "split_idx['train'][:5]"
      ]
    },
    {
      "cell_type": "code",
      "execution_count": 65,
      "metadata": {},
      "outputs": [
        {
          "data": {
            "text/plain": [
              "tensor([349, 357, 366, 382, 393])"
            ]
          },
          "execution_count": 65,
          "metadata": {},
          "output_type": "execute_result"
        }
      ],
      "source": [
        "split_idx['valid'][:5]"
      ]
    },
    {
      "cell_type": "markdown",
      "metadata": {
        "id": "OgUA815bNJ8w"
      },
      "source": [
        "## GCN Model\n",
        "\n",
        "Now we will implement our GCN model!\n",
        "\n",
        "Please follow the figure below to implement your `forward` function.\n",
        "\n",
        "\n",
        "![test](https://drive.google.com/uc?id=128AuYAXNXGg7PIhJJ7e420DoPWKb-RtL)"
      ]
    },
    {
      "cell_type": "code",
      "execution_count": 76,
      "metadata": {
        "id": "IgspXTYpNJLA"
      },
      "outputs": [],
      "source": [
        "class GCN(torch.nn.Module):\n",
        "    def __init__(self, input_dim, hidden_dim, output_dim, num_layers,\n",
        "                 dropout, return_embeds=False):\n",
        "        # TODO: Implement this function that initializes self.convs, \n",
        "        # self.bns, and self.softmax.\n",
        "\n",
        "        super(GCN, self).__init__()\n",
        "\n",
        "        # A list of GCNConv layers\n",
        "        self.convs = []\n",
        "\n",
        "        # A list of 1D batch normalization layers\n",
        "        self.bns = []\n",
        "\n",
        "        # The log softmax layer\n",
        "        self.softmax = None\n",
        "\n",
        "        ############# Your code here ############\n",
        "        ## Note:\n",
        "        ## 1. You should use torch.nn.ModuleList for self.convs and self.bns\n",
        "        ## 2. self.convs has num_layers GCNConv layers\n",
        "        ## 3. self.bns has num_layers - 1 BatchNorm1d layers\n",
        "        ## 4. You should use torch.nn.LogSoftmax for self.softmax\n",
        "        ## 5. The parameters you can set for GCNConv include 'in_channels' and \n",
        "        ## 'out_channels'. More information please refer to the documentation:\n",
        "        ## https://pytorch-geometric.readthedocs.io/en/latest/modules/nn.html#torch_geometric.nn.conv.GCNConv\n",
        "        ## 6. The only parameter you need to set for BatchNorm1d is 'num_features'\n",
        "        ## More information please refer to the documentation: \n",
        "        ## https://pytorch.org/docs/stable/generated/torch.nn.BatchNorm1d.html\n",
        "        ## (~10 lines of code)\n",
        "\n",
        "        self.convs = torch.nn.ModuleList(\n",
        "            [GCNConv(in_channels=input_dim, out_channels=hidden_dim)] +\n",
        "            [GCNConv(in_channels=hidden_dim, out_channels=hidden_dim)                             \n",
        "                for i in range(num_layers-2)] + \n",
        "            [GCNConv(in_channels=hidden_dim, out_channels=output_dim)]    \n",
        "        )\n",
        "\n",
        "        self.bns = torch.nn.ModuleList([\n",
        "            torch.nn.BatchNorm1d(num_features=hidden_dim) \n",
        "                for i in range(num_layers-1)\n",
        "        ])\n",
        "        #########################################\n",
        "\n",
        "        # Probability of an element to be zeroed\n",
        "        self.dropout = dropout\n",
        "\n",
        "        # Skip classification layer and return node embeddings\n",
        "        self.return_embeds = return_embeds\n",
        "\n",
        "    def reset_parameters(self):\n",
        "        for conv in self.convs:\n",
        "            conv.reset_parameters()\n",
        "        for bn in self.bns:\n",
        "            bn.reset_parameters()\n",
        "\n",
        "    def forward(self, x, adj_t): # tutorial에는 edge_index인데 여기서는 adj_t\n",
        "        # TODO: Implement this function that takes the feature tensor x,\n",
        "        # edge_index tensor adj_t and returns the output tensor as\n",
        "        # shown in the figure.\n",
        "        \n",
        "        out = None\n",
        "\n",
        "        ############# Your code here ############\n",
        "        ## Note:\n",
        "        ## 1. Construct the network as showing in the figure\n",
        "        ## 2. torch.nn.functional.relu and torch.nn.functional.dropout are useful\n",
        "        ## More information please refer to the documentation:\n",
        "        ## https://pytorch.org/docs/stable/nn.functional.html\n",
        "        ## 3. Don't forget to set F.dropout training to self.training\n",
        "        ## 4. If return_embeds is True, then skip the last softmax layer\n",
        "        ## (~7 lines of code)\n",
        "        for conv, bn in zip(self.convs[:-1], self.bns):\n",
        "            out = F.relu(bn(conv(x, adj_t)))\n",
        "            out = F.dropout(out, self.dropout, self.training)\n",
        "            x = out\n",
        "        out = self.convs[-1](x, adj_t)\n",
        "        if self.return_embeds:\n",
        "            return out\n",
        "        else:\n",
        "            out = F.log_softmax(out, dim=1)\n",
        "        #########################################\n",
        "\n",
        "        return out"
      ]
    },
    {
      "cell_type": "code",
      "execution_count": 56,
      "metadata": {
        "id": "FF1hnHUhO81e"
      },
      "outputs": [],
      "source": [
        "def train(model, data, train_idx, optimizer, loss_fn):\n",
        "    # TODO: Implement this function that trains the model by \n",
        "    # using the given optimizer and loss_fn.\n",
        "    model.train()\n",
        "    loss = 0\n",
        "\n",
        "    ############# Your code here ############\n",
        "    ## Note:\n",
        "    ## 1. Zero grad the optimizer\n",
        "    ## 2. Feed the data into the model\n",
        "    ## 3. Slicing the model output and label by train_idx\n",
        "    ## 4. Feed the sliced output and label to loss_fn\n",
        "    ## (~4 lines of code)\n",
        "    optimizer.zero_grad()\n",
        "    out = model(data.x, data.adj_t)\n",
        "    loss = loss_fn(out[train_idx], data.y[train_idx].reshape(-1)) # tutorial에서는 그냥 됐는데 에러떠서 reshape\n",
        "    #########################################\n",
        "\n",
        "    loss.backward()\n",
        "    optimizer.step()\n",
        "\n",
        "    return loss.item()"
      ]
    },
    {
      "cell_type": "code",
      "execution_count": 57,
      "metadata": {
        "id": "aJdlrJQhPBsK"
      },
      "outputs": [],
      "source": [
        "# Test function here\n",
        "@torch.no_grad()\n",
        "def test(model, data, split_idx, evaluator):\n",
        "    # TODO: Implement this function that tests the model by \n",
        "    # using the given split_idx and evaluator.\n",
        "    model.eval()\n",
        "\n",
        "    # The output of model on all data\n",
        "    out = None\n",
        "\n",
        "    ############# Your code here ############\n",
        "    ## (~1 line of code)\n",
        "    ## Note:\n",
        "    ## 1. No index slicing here\n",
        "    out = model(data.x, data.adj_t)\n",
        "    #########################################\n",
        "\n",
        "    y_pred = out.argmax(dim=-1, keepdim=True)\n",
        "\n",
        "    train_acc = evaluator.eval({\n",
        "        'y_true': data.y[split_idx['train']],\n",
        "        'y_pred': y_pred[split_idx['train']],\n",
        "    })['acc']\n",
        "    valid_acc = evaluator.eval({\n",
        "        'y_true': data.y[split_idx['valid']],\n",
        "        'y_pred': y_pred[split_idx['valid']],\n",
        "    })['acc']\n",
        "    test_acc = evaluator.eval({\n",
        "        'y_true': data.y[split_idx['test']],\n",
        "        'y_pred': y_pred[split_idx['test']],\n",
        "    })['acc']\n",
        "\n",
        "    return train_acc, valid_acc, test_acc"
      ]
    },
    {
      "cell_type": "code",
      "execution_count": 58,
      "metadata": {
        "id": "o7F46xkuLiOL"
      },
      "outputs": [
        {
          "data": {
            "text/plain": [
              "{'device': 'cuda',\n",
              " 'num_layers': 3,\n",
              " 'hidden_dim': 256,\n",
              " 'dropout': 0.5,\n",
              " 'lr': 0.01,\n",
              " 'epochs': 100}"
            ]
          },
          "execution_count": 58,
          "metadata": {},
          "output_type": "execute_result"
        }
      ],
      "source": [
        "# Please do not change the args\n",
        "args = {\n",
        "    'device': device,\n",
        "    'num_layers': 3,\n",
        "    'hidden_dim': 256,\n",
        "    'dropout': 0.5,\n",
        "    'lr': 0.01,\n",
        "    'epochs': 100,\n",
        "}\n",
        "args"
      ]
    },
    {
      "cell_type": "code",
      "execution_count": 59,
      "metadata": {
        "id": "dT8RyM2cPGxM"
      },
      "outputs": [],
      "source": [
        "model = GCN(data.num_features, args['hidden_dim'],\n",
        "            dataset.num_classes, args['num_layers'],\n",
        "            args['dropout']).to(device)\n",
        "evaluator = Evaluator(name='ogbn-arxiv')"
      ]
    },
    {
      "cell_type": "code",
      "execution_count": 60,
      "metadata": {
        "id": "qd5O5cnPPdVF"
      },
      "outputs": [
        {
          "name": "stdout",
          "output_type": "stream",
          "text": [
            "Epoch: 01, Loss: 4.1135, Train: 28.14%, Valid: 30.23% Test: 27.12%\n",
            "Epoch: 02, Loss: 2.3811, Train: 22.52%, Valid: 16.36% Test: 18.12%\n",
            "Epoch: 03, Loss: 1.9068, Train: 24.69%, Valid: 22.07% Test: 27.23%\n",
            "Epoch: 04, Loss: 1.7488, Train: 30.90%, Valid: 25.39% Test: 29.73%\n",
            "Epoch: 05, Loss: 1.6317, Train: 36.18%, Valid: 34.12% Test: 38.37%\n",
            "Epoch: 06, Loss: 1.5506, Train: 34.23%, Valid: 23.62% Test: 21.60%\n",
            "Epoch: 07, Loss: 1.4905, Train: 33.03%, Valid: 18.84% Test: 16.05%\n",
            "Epoch: 08, Loss: 1.4414, Train: 33.17%, Valid: 21.74% Test: 20.84%\n",
            "Epoch: 09, Loss: 1.3991, Train: 32.84%, Valid: 27.91% Test: 31.89%\n",
            "Epoch: 10, Loss: 1.3690, Train: 31.48%, Valid: 28.30% Test: 32.64%\n",
            "Epoch: 11, Loss: 1.3317, Train: 31.37%, Valid: 29.90% Test: 33.71%\n",
            "Epoch: 12, Loss: 1.3100, Train: 32.86%, Valid: 31.69% Test: 34.03%\n",
            "Epoch: 13, Loss: 1.2905, Train: 35.90%, Valid: 34.07% Test: 35.66%\n",
            "Epoch: 14, Loss: 1.2692, Train: 39.16%, Valid: 36.19% Test: 38.01%\n",
            "Epoch: 15, Loss: 1.2506, Train: 42.55%, Valid: 39.21% Test: 41.32%\n",
            "Epoch: 16, Loss: 1.2357, Train: 46.27%, Valid: 43.67% Test: 45.96%\n",
            "Epoch: 17, Loss: 1.2176, Train: 50.50%, Valid: 49.25% Test: 51.66%\n",
            "Epoch: 18, Loss: 1.2073, Train: 55.01%, Valid: 55.25% Test: 57.12%\n",
            "Epoch: 19, Loss: 1.1936, Train: 57.90%, Valid: 58.63% Test: 60.03%\n",
            "Epoch: 20, Loss: 1.1847, Train: 59.24%, Valid: 60.15% Test: 61.36%\n",
            "Epoch: 21, Loss: 1.1710, Train: 59.90%, Valid: 60.48% Test: 61.93%\n",
            "Epoch: 22, Loss: 1.1593, Train: 60.43%, Valid: 61.01% Test: 62.34%\n",
            "Epoch: 23, Loss: 1.1519, Train: 61.37%, Valid: 61.67% Test: 62.96%\n",
            "Epoch: 24, Loss: 1.1422, Train: 62.79%, Valid: 63.07% Test: 63.82%\n",
            "Epoch: 25, Loss: 1.1297, Train: 63.86%, Valid: 63.93% Test: 64.25%\n",
            "Epoch: 26, Loss: 1.1284, Train: 64.34%, Valid: 64.36% Test: 64.70%\n",
            "Epoch: 27, Loss: 1.1181, Train: 64.39%, Valid: 64.73% Test: 65.24%\n",
            "Epoch: 28, Loss: 1.1131, Train: 64.60%, Valid: 65.00% Test: 65.70%\n",
            "Epoch: 29, Loss: 1.1072, Train: 65.29%, Valid: 65.48% Test: 66.30%\n",
            "Epoch: 30, Loss: 1.1004, Train: 66.40%, Valid: 66.74% Test: 67.07%\n",
            "Epoch: 31, Loss: 1.0916, Train: 67.53%, Valid: 67.81% Test: 67.88%\n",
            "Epoch: 32, Loss: 1.0827, Train: 68.26%, Valid: 68.60% Test: 68.45%\n",
            "Epoch: 33, Loss: 1.0792, Train: 68.68%, Valid: 68.86% Test: 68.91%\n",
            "Epoch: 34, Loss: 1.0727, Train: 68.65%, Valid: 68.87% Test: 69.03%\n",
            "Epoch: 35, Loss: 1.0672, Train: 68.70%, Valid: 68.71% Test: 69.00%\n",
            "Epoch: 36, Loss: 1.0634, Train: 68.80%, Valid: 68.76% Test: 68.92%\n",
            "Epoch: 37, Loss: 1.0602, Train: 69.09%, Valid: 68.94% Test: 68.88%\n",
            "Epoch: 38, Loss: 1.0548, Train: 69.37%, Valid: 69.09% Test: 69.02%\n",
            "Epoch: 39, Loss: 1.0511, Train: 69.40%, Valid: 69.14% Test: 69.39%\n",
            "Epoch: 40, Loss: 1.0445, Train: 69.36%, Valid: 69.11% Test: 69.55%\n",
            "Epoch: 41, Loss: 1.0421, Train: 69.58%, Valid: 69.37% Test: 69.87%\n",
            "Epoch: 42, Loss: 1.0339, Train: 69.85%, Valid: 69.77% Test: 70.17%\n",
            "Epoch: 43, Loss: 1.0363, Train: 70.32%, Valid: 70.23% Test: 70.27%\n",
            "Epoch: 44, Loss: 1.0292, Train: 70.58%, Valid: 70.37% Test: 70.27%\n",
            "Epoch: 45, Loss: 1.0266, Train: 70.72%, Valid: 70.46% Test: 70.17%\n",
            "Epoch: 46, Loss: 1.0226, Train: 70.76%, Valid: 70.56% Test: 70.25%\n",
            "Epoch: 47, Loss: 1.0170, Train: 70.75%, Valid: 70.55% Test: 70.20%\n",
            "Epoch: 48, Loss: 1.0156, Train: 70.79%, Valid: 70.52% Test: 70.01%\n",
            "Epoch: 49, Loss: 1.0124, Train: 70.89%, Valid: 70.34% Test: 69.73%\n",
            "Epoch: 50, Loss: 1.0097, Train: 70.82%, Valid: 70.17% Test: 69.54%\n",
            "Epoch: 51, Loss: 1.0083, Train: 70.84%, Valid: 70.26% Test: 69.70%\n",
            "Epoch: 52, Loss: 1.0040, Train: 71.00%, Valid: 70.51% Test: 69.81%\n",
            "Epoch: 53, Loss: 0.9996, Train: 71.29%, Valid: 70.73% Test: 69.99%\n",
            "Epoch: 54, Loss: 0.9963, Train: 71.55%, Valid: 70.87% Test: 69.88%\n",
            "Epoch: 55, Loss: 0.9956, Train: 71.64%, Valid: 70.80% Test: 69.69%\n",
            "Epoch: 56, Loss: 0.9900, Train: 71.67%, Valid: 70.75% Test: 69.52%\n",
            "Epoch: 57, Loss: 0.9881, Train: 71.74%, Valid: 70.73% Test: 69.50%\n",
            "Epoch: 58, Loss: 0.9850, Train: 71.85%, Valid: 70.89% Test: 69.72%\n",
            "Epoch: 59, Loss: 0.9819, Train: 71.85%, Valid: 70.88% Test: 70.02%\n",
            "Epoch: 60, Loss: 0.9856, Train: 71.92%, Valid: 70.91% Test: 69.79%\n",
            "Epoch: 61, Loss: 0.9773, Train: 71.93%, Valid: 70.59% Test: 69.09%\n",
            "Epoch: 62, Loss: 0.9788, Train: 71.95%, Valid: 70.39% Test: 68.74%\n",
            "Epoch: 63, Loss: 0.9748, Train: 72.18%, Valid: 70.77% Test: 69.36%\n",
            "Epoch: 64, Loss: 0.9747, Train: 72.24%, Valid: 71.03% Test: 69.85%\n",
            "Epoch: 65, Loss: 0.9692, Train: 72.36%, Valid: 71.06% Test: 70.08%\n",
            "Epoch: 66, Loss: 0.9695, Train: 72.47%, Valid: 71.14% Test: 69.87%\n",
            "Epoch: 67, Loss: 0.9687, Train: 72.52%, Valid: 71.19% Test: 69.85%\n",
            "Epoch: 68, Loss: 0.9672, Train: 72.57%, Valid: 71.31% Test: 70.23%\n",
            "Epoch: 69, Loss: 0.9620, Train: 72.64%, Valid: 71.40% Test: 70.65%\n",
            "Epoch: 70, Loss: 0.9614, Train: 72.72%, Valid: 71.43% Test: 70.72%\n",
            "Epoch: 71, Loss: 0.9590, Train: 72.75%, Valid: 71.35% Test: 70.14%\n",
            "Epoch: 72, Loss: 0.9596, Train: 72.72%, Valid: 70.87% Test: 69.36%\n",
            "Epoch: 73, Loss: 0.9527, Train: 72.55%, Valid: 70.66% Test: 69.21%\n",
            "Epoch: 74, Loss: 0.9498, Train: 72.46%, Valid: 70.69% Test: 69.62%\n",
            "Epoch: 75, Loss: 0.9506, Train: 72.61%, Valid: 71.13% Test: 70.19%\n",
            "Epoch: 76, Loss: 0.9484, Train: 72.90%, Valid: 71.26% Test: 69.87%\n",
            "Epoch: 77, Loss: 0.9471, Train: 72.99%, Valid: 71.17% Test: 69.65%\n",
            "Epoch: 78, Loss: 0.9450, Train: 73.02%, Valid: 71.33% Test: 69.91%\n",
            "Epoch: 79, Loss: 0.9441, Train: 73.04%, Valid: 71.42% Test: 70.54%\n",
            "Epoch: 80, Loss: 0.9405, Train: 72.76%, Valid: 71.40% Test: 70.64%\n",
            "Epoch: 81, Loss: 0.9395, Train: 72.83%, Valid: 71.12% Test: 70.37%\n",
            "Epoch: 82, Loss: 0.9390, Train: 72.91%, Valid: 71.14% Test: 69.94%\n",
            "Epoch: 83, Loss: 0.9369, Train: 72.96%, Valid: 71.24% Test: 70.13%\n",
            "Epoch: 84, Loss: 0.9361, Train: 73.08%, Valid: 71.64% Test: 70.71%\n",
            "Epoch: 85, Loss: 0.9339, Train: 73.27%, Valid: 71.67% Test: 70.84%\n",
            "Epoch: 86, Loss: 0.9327, Train: 73.39%, Valid: 71.41% Test: 70.17%\n",
            "Epoch: 87, Loss: 0.9307, Train: 73.43%, Valid: 71.17% Test: 69.53%\n",
            "Epoch: 88, Loss: 0.9299, Train: 73.43%, Valid: 70.92% Test: 69.25%\n",
            "Epoch: 89, Loss: 0.9248, Train: 73.26%, Valid: 71.33% Test: 70.36%\n",
            "Epoch: 90, Loss: 0.9241, Train: 73.10%, Valid: 71.38% Test: 70.68%\n",
            "Epoch: 91, Loss: 0.9240, Train: 73.40%, Valid: 71.74% Test: 70.64%\n",
            "Epoch: 92, Loss: 0.9220, Train: 73.59%, Valid: 71.53% Test: 69.98%\n",
            "Epoch: 93, Loss: 0.9208, Train: 73.70%, Valid: 71.63% Test: 70.19%\n",
            "Epoch: 94, Loss: 0.9193, Train: 73.61%, Valid: 71.47% Test: 70.09%\n",
            "Epoch: 95, Loss: 0.9187, Train: 73.42%, Valid: 70.83% Test: 69.37%\n",
            "Epoch: 96, Loss: 0.9189, Train: 73.37%, Valid: 70.92% Test: 69.82%\n",
            "Epoch: 97, Loss: 0.9158, Train: 73.45%, Valid: 71.37% Test: 70.82%\n",
            "Epoch: 98, Loss: 0.9132, Train: 73.69%, Valid: 71.81% Test: 71.07%\n",
            "Epoch: 99, Loss: 0.9134, Train: 73.74%, Valid: 71.38% Test: 70.03%\n",
            "Epoch: 100, Loss: 0.9112, Train: 73.70%, Valid: 70.74% Test: 68.79%\n"
          ]
        }
      ],
      "source": [
        "import copy\n",
        "\n",
        "# reset the parameters to initial random value\n",
        "model.reset_parameters()\n",
        "\n",
        "optimizer = torch.optim.Adam(model.parameters(), lr=args['lr'])\n",
        "loss_fn = F.nll_loss\n",
        "\n",
        "best_model = None\n",
        "best_valid_acc = 0\n",
        "\n",
        "for epoch in range(1, 1 + args[\"epochs\"]):\n",
        "  loss = train(model, data, train_idx, optimizer, loss_fn)\n",
        "  result = test(model, data, split_idx, evaluator)\n",
        "  train_acc, valid_acc, test_acc = result\n",
        "  if valid_acc > best_valid_acc:\n",
        "      best_valid_acc = valid_acc\n",
        "      best_model = copy.deepcopy(model)\n",
        "  print(f'Epoch: {epoch:02d}, '\n",
        "        f'Loss: {loss:.4f}, '\n",
        "        f'Train: {100 * train_acc:.2f}%, '\n",
        "        f'Valid: {100 * valid_acc:.2f}% '\n",
        "        f'Test: {100 * test_acc:.2f}%')"
      ]
    },
    {
      "cell_type": "code",
      "execution_count": 61,
      "metadata": {
        "id": "EqcextqOL2FX"
      },
      "outputs": [
        {
          "name": "stdout",
          "output_type": "stream",
          "text": [
            "Best model: Train: 73.69%, Valid: 71.81% Test: 71.07%\n"
          ]
        }
      ],
      "source": [
        "best_result = test(best_model, data, split_idx, evaluator)\n",
        "train_acc, valid_acc, test_acc = best_result\n",
        "print(f'Best model: '\n",
        "      f'Train: {100 * train_acc:.2f}%, '\n",
        "      f'Valid: {100 * valid_acc:.2f}% '\n",
        "      f'Test: {100 * test_acc:.2f}%')"
      ]
    },
    {
      "cell_type": "markdown",
      "metadata": {
        "id": "duMEg-olLjbJ"
      },
      "source": [
        "## Question 5: What are your `best_model` validation and test accuracy? Please report them on Gradescope. For example, for an accuracy such as 50.01%, just report 50.01 and please don't include the percent sign. (20 points)"
      ]
    },
    {
      "cell_type": "markdown",
      "metadata": {
        "id": "R8pOD6y80TyI"
      },
      "source": [
        "# 4 GNN: Graph Property Prediction\n",
        "\n",
        "In this section we will create a graph neural network for graph property prediction (graph classification)\n"
      ]
    },
    {
      "cell_type": "markdown",
      "metadata": {
        "id": "vRg5VOEdQTa4"
      },
      "source": [
        "## Load and preprocess the dataset"
      ]
    },
    {
      "cell_type": "code",
      "execution_count": 66,
      "metadata": {
        "id": "LXb-O5QUIgTH"
      },
      "outputs": [
        {
          "name": "stdout",
          "output_type": "stream",
          "text": [
            "Downloading http://snap.stanford.edu/ogb/data/graphproppred/csv_mol_download/hiv.zip\n"
          ]
        },
        {
          "name": "stderr",
          "output_type": "stream",
          "text": [
            "Downloaded 0.00 GB: 100%|██████████| 3/3 [00:00<00:00,  3.14it/s]\n",
            "Processing...\n"
          ]
        },
        {
          "name": "stdout",
          "output_type": "stream",
          "text": [
            "Extracting dataset/hiv.zip\n",
            "Loading necessary files...\n",
            "This might take a while.\n",
            "Processing graphs...\n"
          ]
        },
        {
          "name": "stderr",
          "output_type": "stream",
          "text": [
            "100%|██████████| 41127/41127 [00:00<00:00, 95723.36it/s] \n"
          ]
        },
        {
          "name": "stdout",
          "output_type": "stream",
          "text": [
            "Converting graphs into PyG objects...\n"
          ]
        },
        {
          "name": "stderr",
          "output_type": "stream",
          "text": [
            "100%|██████████| 41127/41127 [00:00<00:00, 55169.32it/s]\n"
          ]
        },
        {
          "name": "stdout",
          "output_type": "stream",
          "text": [
            "Saving...\n",
            "Device: cuda\n",
            "Task type: binary classification\n"
          ]
        },
        {
          "name": "stderr",
          "output_type": "stream",
          "text": [
            "Done!\n"
          ]
        }
      ],
      "source": [
        "from ogb.graphproppred import PygGraphPropPredDataset, Evaluator\n",
        "from torch_geometric.data import DataLoader\n",
        "from tqdm.notebook import tqdm\n",
        "\n",
        "# Load the dataset \n",
        "dataset = PygGraphPropPredDataset(name='ogbg-molhiv')\n",
        "\n",
        "device = 'cuda' if torch.cuda.is_available() else 'cpu'\n",
        "print('Device: {}'.format(device))\n",
        "\n",
        "split_idx = dataset.get_idx_split()\n",
        "\n",
        "# Check task type\n",
        "print('Task type: {}'.format(dataset.task_type))"
      ]
    },
    {
      "cell_type": "code",
      "execution_count": 67,
      "metadata": {
        "id": "7cHHbgW1c5hi"
      },
      "outputs": [
        {
          "name": "stderr",
          "output_type": "stream",
          "text": [
            "/home/minsoo/.pyenv/versions/3.10.4/envs/graph/lib/python3.10/site-packages/torch_geometric/deprecation.py:12: UserWarning: 'data.DataLoader' is deprecated, use 'loader.DataLoader' instead\n",
            "  warnings.warn(out)\n"
          ]
        }
      ],
      "source": [
        "# Load the data sets into dataloader\n",
        "# We will train the graph classification task on a batch of 32 graphs\n",
        "# Shuffle the order of graphs for training set\n",
        "train_loader = DataLoader(dataset[split_idx[\"train\"]], batch_size=32, shuffle=True, num_workers=0)\n",
        "valid_loader = DataLoader(dataset[split_idx[\"valid\"]], batch_size=32, shuffle=False, num_workers=0)\n",
        "test_loader = DataLoader(dataset[split_idx[\"test\"]], batch_size=32, shuffle=False, num_workers=0)"
      ]
    },
    {
      "cell_type": "code",
      "execution_count": 68,
      "metadata": {
        "id": "AYrSnOj0Y4DK"
      },
      "outputs": [
        {
          "data": {
            "text/plain": [
              "{'device': 'cuda',\n",
              " 'num_layers': 5,\n",
              " 'hidden_dim': 256,\n",
              " 'dropout': 0.5,\n",
              " 'lr': 0.001,\n",
              " 'epochs': 30}"
            ]
          },
          "execution_count": 68,
          "metadata": {},
          "output_type": "execute_result"
        }
      ],
      "source": [
        "# Please do not change the args\n",
        "args = {\n",
        "    'device': device,\n",
        "    'num_layers': 5,\n",
        "    'hidden_dim': 256,\n",
        "    'dropout': 0.5,\n",
        "    'lr': 0.001,\n",
        "    'epochs': 30,\n",
        "}\n",
        "args"
      ]
    },
    {
      "cell_type": "markdown",
      "metadata": {
        "id": "7WLhguSTeazy"
      },
      "source": [
        "## Graph Prediction Model"
      ]
    },
    {
      "cell_type": "markdown",
      "metadata": {
        "id": "u05Z14TRYPGn"
      },
      "source": [
        "Now we will implement our GCN Graph Prediction model!\n",
        "\n",
        "We will reuse the existing GCN model to generate `node_embeddings` and use  Global Pooling on the nodes to predict properties for the whole graph."
      ]
    },
    {
      "cell_type": "code",
      "execution_count": 77,
      "metadata": {
        "id": "3_Kq3zyjeZ22"
      },
      "outputs": [],
      "source": [
        "from ogb.graphproppred.mol_encoder import AtomEncoder\n",
        "from torch_geometric.nn import global_add_pool, global_mean_pool\n",
        "\n",
        "### GCN to predict graph property\n",
        "class GCN_Graph(torch.nn.Module):\n",
        "    def __init__(self, hidden_dim, output_dim, num_layers, dropout):\n",
        "        super(GCN_Graph, self).__init__()\n",
        "\n",
        "        # Load encoders for Atoms in molecule graphs\n",
        "        self.node_encoder = AtomEncoder(hidden_dim)\n",
        "\n",
        "        # Node embedding model\n",
        "        # Note that the input_dim and output_dim are set to hidden_dim\n",
        "        self.gnn_node = GCN(hidden_dim, hidden_dim,\n",
        "            hidden_dim, num_layers, dropout, return_embeds=True)\n",
        "\n",
        "        self.pool = None\n",
        "\n",
        "        ############# Your code here ############\n",
        "        ## Note:\n",
        "        ## 1. Initialize the self.pool to global mean pooling layer\n",
        "        ## More information please refer to the documentation:\n",
        "        ## https://pytorch-geometric.readthedocs.io/en/latest/modules/nn.html#global-pooling-layers\n",
        "        ## (~1 line of code)\n",
        "        self.pool = global_mean_pool\n",
        "        #########################################\n",
        "\n",
        "        # Output layer\n",
        "        self.linear = torch.nn.Linear(hidden_dim, output_dim)\n",
        "\n",
        "\n",
        "    def reset_parameters(self):\n",
        "      self.gnn_node.reset_parameters()\n",
        "      self.linear.reset_parameters()\n",
        "\n",
        "    def forward(self, batched_data):\n",
        "        # TODO: Implement this function that takes the input tensor batched_data,\n",
        "        # returns a batched output tensor for each graph.\n",
        "        x, edge_index, batch = batched_data.x, batched_data.edge_index, batched_data.batch\n",
        "        embed = self.node_encoder(x)\n",
        "\n",
        "        out = None\n",
        "\n",
        "        ############# Your code here ############\n",
        "        ## Note:\n",
        "        ## 1. Construct node embeddings using existing GCN model\n",
        "        ## 2. Use global pooling layer to construct features for the whole graph\n",
        "        ## More information please refer to the documentation:\n",
        "        ## https://pytorch-geometric.readthedocs.io/en/latest/modules/nn.html#global-pooling-layers\n",
        "        ## 3. Use a linear layer to predict the graph property \n",
        "        ## (~3 lines of code)\n",
        "        out = self.gnn_node(embed, edge_index)\n",
        "        out = self.pool(out, batch)\n",
        "        out = self.linear(out)\n",
        "        #########################################\n",
        "\n",
        "        return out"
      ]
    },
    {
      "cell_type": "code",
      "execution_count": 89,
      "metadata": {
        "id": "FJjnGuMSbjX0"
      },
      "outputs": [],
      "source": [
        "def train(model, device, data_loader, optimizer, loss_fn):\n",
        "    # TODO: Implement this function that trains the model by \n",
        "    # using the given optimizer and loss_fn.\n",
        "    model.train()\n",
        "    loss = 0\n",
        "\n",
        "    for step, batch in enumerate(data_loader):\n",
        "      batch = batch.to(device)\n",
        "\n",
        "      if batch.x.shape[0] == 1 or batch.batch[-1] == 0:\n",
        "          pass\n",
        "      else:\n",
        "        ## ignore nan targets (unlabeled) when computing training loss.\n",
        "        is_labeled = batch.y == batch.y\n",
        "\n",
        "        ############# Your code here ############\n",
        "        ## Note:\n",
        "        ## 1. Zero grad the optimizer\n",
        "        ## 2. Feed the data into the model\n",
        "        ## 3. Use `is_labeled` mask to filter output and labels\n",
        "        ## 4. You might change the type of label\n",
        "        ## 5. Feed the output and label to loss_fn\n",
        "        ## (~3 lines of code)\n",
        "        optimizer.zero_grad()\n",
        "        out = model(batch)\n",
        "        loss = loss_fn(out[is_labeled], batch.y[is_labeled].float())\n",
        "        #########################################\n",
        "\n",
        "        loss.backward()\n",
        "        optimizer.step()\n",
        "\n",
        "    return loss.item()"
      ]
    },
    {
      "cell_type": "code",
      "execution_count": 90,
      "metadata": {
        "id": "ztPHXq_Gzn7U"
      },
      "outputs": [],
      "source": [
        "# The evaluation function\n",
        "def eval(model, device, loader, evaluator):\n",
        "    model.eval()\n",
        "    y_true = []\n",
        "    y_pred = []\n",
        "\n",
        "    for step, batch in enumerate(loader):\n",
        "        batch = batch.to(device)\n",
        "\n",
        "        if batch.x.shape[0] == 1:\n",
        "            pass\n",
        "        else:\n",
        "            with torch.no_grad():\n",
        "                pred = model(batch)\n",
        "\n",
        "            y_true.append(batch.y.view(pred.shape).detach().cpu())\n",
        "            y_pred.append(pred.detach().cpu())\n",
        "\n",
        "    y_true = torch.cat(y_true, dim = 0).numpy()\n",
        "    y_pred = torch.cat(y_pred, dim = 0).numpy()\n",
        "\n",
        "    input_dict = {\"y_true\": y_true, \"y_pred\": y_pred}\n",
        "\n",
        "    return evaluator.eval(input_dict)"
      ]
    },
    {
      "cell_type": "code",
      "execution_count": 91,
      "metadata": {
        "id": "MR1wQ4hMZeMw"
      },
      "outputs": [],
      "source": [
        "model = GCN_Graph(args['hidden_dim'],\n",
        "            dataset.num_tasks, args['num_layers'],\n",
        "            args['dropout']).to(device)\n",
        "evaluator = Evaluator(name='ogbg-molhiv')"
      ]
    },
    {
      "cell_type": "code",
      "execution_count": 92,
      "metadata": {
        "id": "qJGTNZiuZy0A"
      },
      "outputs": [
        {
          "name": "stdout",
          "output_type": "stream",
          "text": [
            "Training...\n"
          ]
        },
        {
          "name": "stderr",
          "output_type": "stream",
          "text": [
            "Exception ignored in: <function tqdm.__del__ at 0x7f5d0c0a0a60>\n",
            "Traceback (most recent call last):\n",
            "  File \"/home/minsoo/.pyenv/versions/3.10.4/envs/graph/lib/python3.10/site-packages/tqdm/std.py\", line 1162, in __del__\n",
            "    self.close()\n",
            "  File \"/home/minsoo/.pyenv/versions/3.10.4/envs/graph/lib/python3.10/site-packages/tqdm/notebook.py\", line 287, in close\n",
            "    self.disp(bar_style='danger', check_delay=False)\n",
            "AttributeError: 'tqdm_notebook' object has no attribute 'disp'\n",
            "Exception ignored in: <function tqdm.__del__ at 0x7f5d0c0a0a60>\n",
            "Traceback (most recent call last):\n",
            "  File \"/home/minsoo/.pyenv/versions/3.10.4/envs/graph/lib/python3.10/site-packages/tqdm/std.py\", line 1162, in __del__\n",
            "    self.close()\n",
            "  File \"/home/minsoo/.pyenv/versions/3.10.4/envs/graph/lib/python3.10/site-packages/tqdm/notebook.py\", line 287, in close\n",
            "    self.disp(bar_style='danger', check_delay=False)\n",
            "AttributeError: 'tqdm_notebook' object has no attribute 'disp'\n"
          ]
        },
        {
          "name": "stdout",
          "output_type": "stream",
          "text": [
            "Evaluating...\n",
            "Epoch: 01, Loss: 0.0480, Train: 71.25%, Valid: 70.63% Test: 71.52%\n",
            "Training...\n",
            "Evaluating...\n",
            "Epoch: 02, Loss: 0.0276, Train: 74.13%, Valid: 76.76% Test: 68.01%\n",
            "Training...\n",
            "Evaluating...\n",
            "Epoch: 03, Loss: 0.5907, Train: 76.03%, Valid: 75.10% Test: 68.45%\n",
            "Training...\n",
            "Evaluating...\n",
            "Epoch: 04, Loss: 0.0515, Train: 76.20%, Valid: 78.74% Test: 72.52%\n",
            "Training...\n",
            "Evaluating...\n",
            "Epoch: 05, Loss: 0.2792, Train: 77.98%, Valid: 76.17% Test: 72.33%\n",
            "Training...\n",
            "Evaluating...\n",
            "Epoch: 06, Loss: 0.0458, Train: 77.33%, Valid: 78.02% Test: 71.74%\n",
            "Training...\n",
            "Evaluating...\n",
            "Epoch: 07, Loss: 0.0285, Train: 79.32%, Valid: 75.31% Test: 71.46%\n",
            "Training...\n",
            "Evaluating...\n",
            "Epoch: 08, Loss: 0.0228, Train: 78.81%, Valid: 78.31% Test: 70.30%\n",
            "Training...\n",
            "Evaluating...\n",
            "Epoch: 09, Loss: 0.0383, Train: 79.08%, Valid: 75.19% Test: 71.97%\n",
            "Training...\n",
            "Evaluating...\n",
            "Epoch: 10, Loss: 0.0480, Train: 80.25%, Valid: 78.60% Test: 71.67%\n",
            "Training...\n",
            "Evaluating...\n",
            "Epoch: 11, Loss: 0.0362, Train: 80.45%, Valid: 75.56% Test: 70.72%\n",
            "Training...\n",
            "Evaluating...\n",
            "Epoch: 12, Loss: 0.0255, Train: 79.76%, Valid: 76.45% Test: 73.60%\n",
            "Training...\n",
            "Evaluating...\n",
            "Epoch: 13, Loss: 0.0242, Train: 81.07%, Valid: 75.76% Test: 73.36%\n",
            "Training...\n",
            "Evaluating...\n",
            "Epoch: 14, Loss: 0.0570, Train: 81.06%, Valid: 76.32% Test: 72.51%\n",
            "Training...\n",
            "Evaluating...\n",
            "Epoch: 15, Loss: 0.0431, Train: 81.15%, Valid: 76.54% Test: 69.98%\n",
            "Training...\n",
            "Evaluating...\n",
            "Epoch: 16, Loss: 0.4016, Train: 80.91%, Valid: 79.80% Test: 70.42%\n",
            "Training...\n",
            "Evaluating...\n",
            "Epoch: 17, Loss: 0.0413, Train: 82.74%, Valid: 78.07% Test: 73.53%\n",
            "Training...\n",
            "Evaluating...\n",
            "Epoch: 18, Loss: 0.0293, Train: 81.57%, Valid: 78.40% Test: 72.68%\n",
            "Training...\n",
            "Evaluating...\n",
            "Epoch: 19, Loss: 0.0212, Train: 82.62%, Valid: 77.69% Test: 74.25%\n",
            "Training...\n",
            "Evaluating...\n",
            "Epoch: 20, Loss: 0.5681, Train: 82.42%, Valid: 79.48% Test: 74.63%\n",
            "Training...\n",
            "Evaluating...\n",
            "Epoch: 21, Loss: 0.0271, Train: 83.25%, Valid: 77.52% Test: 74.81%\n",
            "Training...\n",
            "Evaluating...\n",
            "Epoch: 22, Loss: 0.0302, Train: 82.40%, Valid: 78.72% Test: 73.99%\n",
            "Training...\n",
            "Evaluating...\n",
            "Epoch: 23, Loss: 0.0254, Train: 81.95%, Valid: 75.25% Test: 72.82%\n",
            "Training...\n",
            "Evaluating...\n",
            "Epoch: 24, Loss: 0.0268, Train: 82.95%, Valid: 78.74% Test: 75.39%\n",
            "Training...\n",
            "Evaluating...\n",
            "Epoch: 25, Loss: 0.0179, Train: 83.46%, Valid: 79.66% Test: 75.51%\n",
            "Training...\n",
            "Evaluating...\n",
            "Epoch: 26, Loss: 0.0256, Train: 83.51%, Valid: 79.28% Test: 76.07%\n",
            "Training...\n",
            "Evaluating...\n",
            "Epoch: 27, Loss: 0.0442, Train: 83.25%, Valid: 76.97% Test: 76.63%\n",
            "Training...\n",
            "Evaluating...\n",
            "Epoch: 28, Loss: 0.0277, Train: 83.90%, Valid: 78.01% Test: 76.98%\n",
            "Training...\n",
            "Evaluating...\n",
            "Epoch: 29, Loss: 0.0383, Train: 83.53%, Valid: 76.75% Test: 75.35%\n",
            "Training...\n",
            "Evaluating...\n",
            "Epoch: 30, Loss: 0.0200, Train: 83.03%, Valid: 76.67% Test: 74.07%\n"
          ]
        }
      ],
      "source": [
        "import copy\n",
        "\n",
        "model.reset_parameters()\n",
        "\n",
        "optimizer = torch.optim.Adam(model.parameters(), lr=args['lr'])\n",
        "loss_fn = torch.nn.BCEWithLogitsLoss()\n",
        "\n",
        "best_model = None\n",
        "best_valid_acc = 0\n",
        "\n",
        "for epoch in range(1, 1 + args[\"epochs\"]):\n",
        "  print('Training...')\n",
        "  loss = train(model, device, train_loader, optimizer, loss_fn)\n",
        "\n",
        "  print('Evaluating...')\n",
        "  train_result = eval(model, device, train_loader, evaluator)\n",
        "  val_result = eval(model, device, valid_loader, evaluator)\n",
        "  test_result = eval(model, device, test_loader, evaluator)\n",
        "\n",
        "  train_acc, valid_acc, test_acc = train_result[dataset.eval_metric], val_result[dataset.eval_metric], test_result[dataset.eval_metric]\n",
        "  if valid_acc > best_valid_acc:\n",
        "      best_valid_acc = valid_acc\n",
        "      best_model = copy.deepcopy(model)\n",
        "  print(f'Epoch: {epoch:02d}, '\n",
        "        f'Loss: {loss:.4f}, '\n",
        "        f'Train: {100 * train_acc:.2f}%, '\n",
        "        f'Valid: {100 * valid_acc:.2f}% '\n",
        "        f'Test: {100 * test_acc:.2f}%')"
      ]
    },
    {
      "cell_type": "code",
      "execution_count": 93,
      "metadata": {
        "id": "Oq5QaG21dOOO"
      },
      "outputs": [
        {
          "name": "stdout",
          "output_type": "stream",
          "text": [
            "Best model: Train: 80.91%, Valid: 79.80% Test: 70.42%\n"
          ]
        }
      ],
      "source": [
        "train_acc = eval(best_model, device, train_loader, evaluator)[dataset.eval_metric]\n",
        "valid_acc = eval(best_model, device, valid_loader, evaluator)[dataset.eval_metric]\n",
        "test_acc = eval(best_model, device, test_loader, evaluator)[dataset.eval_metric]\n",
        "\n",
        "print(f'Best model: '\n",
        "      f'Train: {100 * train_acc:.2f}%, '\n",
        "      f'Valid: {100 * valid_acc:.2f}% '\n",
        "      f'Test: {100 * test_acc:.2f}%')"
      ]
    },
    {
      "cell_type": "markdown",
      "metadata": {
        "id": "-uKs6j6t1ah3"
      },
      "source": [
        "## Question 6: What are your `best_model` validation and test ROC-AUC score? Please report them on Gradescope. For example, for an ROC-AUC score such as 50.01%, just report 50.01 and please don't include the percent sign. (20 points)"
      ]
    },
    {
      "cell_type": "markdown",
      "metadata": {
        "id": "e7JXsMTBgeOI"
      },
      "source": [
        "# Submission\n",
        "\n",
        "In order to get credit, you must go submit your answers on Gradescope.\n",
        "\n",
        "Also, you need to submit the `ipynb` file of Colab 2, by clicking `File` and `Download .ipynb`. Please make sure that your output of each cell is available in your `ipynb` file."
      ]
    }
  ],
  "metadata": {
    "accelerator": "GPU",
    "colab": {
      "collapsed_sections": [],
      "machine_shape": "hm",
      "name": "CS224W - Colab 2.ipynb",
      "provenance": [],
      "toc_visible": true
    },
    "kernelspec": {
      "display_name": "Python 3.10.4 64-bit ('graph')",
      "language": "python",
      "name": "python3"
    },
    "language_info": {
      "codemirror_mode": {
        "name": "ipython",
        "version": 3
      },
      "file_extension": ".py",
      "mimetype": "text/x-python",
      "name": "python",
      "nbconvert_exporter": "python",
      "pygments_lexer": "ipython3",
      "version": "3.10.4"
    },
    "vscode": {
      "interpreter": {
        "hash": "17fc7c38826dda244b5d3cdc3e6b548f9f93b71c63958fa34aa3bf48d92868c9"
      }
    }
  },
  "nbformat": 4,
  "nbformat_minor": 0
}
